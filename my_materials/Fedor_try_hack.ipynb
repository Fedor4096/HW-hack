{
 "cells": [
  {
   "cell_type": "code",
   "execution_count": 1,
   "id": "a55efb9e",
   "metadata": {},
   "outputs": [],
   "source": [
    "import pandas as pd\n",
    "import matplotlib.pyplot as plt\n",
    "import seaborn as sns\n",
    "import numpy as np"
   ]
  },
  {
   "cell_type": "code",
   "execution_count": 2,
   "id": "4d7a7d2b-9b84-453d-a1a3-2d56a5871cb7",
   "metadata": {},
   "outputs": [],
   "source": [
    "from sklearn.experimental import enable_iterative_imputer\n",
    "from sklearn.impute import IterativeImputer\n",
    "from sklearn.neighbors import KNeighborsRegressor\n",
    "from sklearn.linear_model import BayesianRidge\n",
    "from sklearn.utils import shuffle\n",
    "from sklearn.cluster import KMeans\n",
    "from sklearn.model_selection import train_test_split\n",
    "\n",
    "import catboost\n",
    "from catboost import CatBoostClassifier"
   ]
  },
  {
   "cell_type": "code",
   "execution_count": 3,
   "id": "940d531e",
   "metadata": {},
   "outputs": [],
   "source": [
    "data = pd.read_csv(r\"D:\\for ML\\HW-hack\\train_hw.csv\", sep=';')"
   ]
  },
  {
   "cell_type": "code",
   "execution_count": 4,
   "id": "19601caa",
   "metadata": {
    "jupyter": {
     "outputs_hidden": true
    },
    "tags": []
   },
   "outputs": [
    {
     "data": {
      "text/html": [
       "<div>\n",
       "<style scoped>\n",
       "    .dataframe tbody tr th:only-of-type {\n",
       "        vertical-align: middle;\n",
       "    }\n",
       "\n",
       "    .dataframe tbody tr th {\n",
       "        vertical-align: top;\n",
       "    }\n",
       "\n",
       "    .dataframe thead th {\n",
       "        text-align: right;\n",
       "    }\n",
       "</style>\n",
       "<table border=\"1\" class=\"dataframe\">\n",
       "  <thead>\n",
       "    <tr style=\"text-align: right;\">\n",
       "      <th></th>\n",
       "      <th>WELL</th>\n",
       "      <th>DEPTH_MD</th>\n",
       "      <th>X_LOC</th>\n",
       "      <th>Y_LOC</th>\n",
       "      <th>Z_LOC</th>\n",
       "      <th>GROUP</th>\n",
       "      <th>FORMATION</th>\n",
       "      <th>CALI</th>\n",
       "      <th>RSHA</th>\n",
       "      <th>RMED</th>\n",
       "      <th>...</th>\n",
       "      <th>ROP</th>\n",
       "      <th>DTS</th>\n",
       "      <th>DCAL</th>\n",
       "      <th>DRHO</th>\n",
       "      <th>MUDWEIGHT</th>\n",
       "      <th>RMIC</th>\n",
       "      <th>ROPA</th>\n",
       "      <th>RXO</th>\n",
       "      <th>FORCE_2020_LITHOFACIES_LITHOLOGY</th>\n",
       "      <th>FORCE_2020_LITHOFACIES_CONFIDENCE</th>\n",
       "    </tr>\n",
       "  </thead>\n",
       "  <tbody>\n",
       "    <tr>\n",
       "      <th>0</th>\n",
       "      <td>15/9-13</td>\n",
       "      <td>494.528</td>\n",
       "      <td>437641.96875</td>\n",
       "      <td>6470972.5</td>\n",
       "      <td>-469.501831</td>\n",
       "      <td>NORDLAND GP.</td>\n",
       "      <td>NaN</td>\n",
       "      <td>19.480835</td>\n",
       "      <td>NaN</td>\n",
       "      <td>1.611410</td>\n",
       "      <td>...</td>\n",
       "      <td>34.636410</td>\n",
       "      <td>NaN</td>\n",
       "      <td>NaN</td>\n",
       "      <td>-0.574928</td>\n",
       "      <td>NaN</td>\n",
       "      <td>NaN</td>\n",
       "      <td>NaN</td>\n",
       "      <td>NaN</td>\n",
       "      <td>65000</td>\n",
       "      <td>1.0</td>\n",
       "    </tr>\n",
       "    <tr>\n",
       "      <th>1</th>\n",
       "      <td>15/9-13</td>\n",
       "      <td>494.680</td>\n",
       "      <td>437641.96875</td>\n",
       "      <td>6470972.5</td>\n",
       "      <td>-469.653809</td>\n",
       "      <td>NORDLAND GP.</td>\n",
       "      <td>NaN</td>\n",
       "      <td>19.468800</td>\n",
       "      <td>NaN</td>\n",
       "      <td>1.618070</td>\n",
       "      <td>...</td>\n",
       "      <td>34.636410</td>\n",
       "      <td>NaN</td>\n",
       "      <td>NaN</td>\n",
       "      <td>-0.570188</td>\n",
       "      <td>NaN</td>\n",
       "      <td>NaN</td>\n",
       "      <td>NaN</td>\n",
       "      <td>NaN</td>\n",
       "      <td>65000</td>\n",
       "      <td>1.0</td>\n",
       "    </tr>\n",
       "    <tr>\n",
       "      <th>2</th>\n",
       "      <td>15/9-13</td>\n",
       "      <td>494.832</td>\n",
       "      <td>437641.96875</td>\n",
       "      <td>6470972.5</td>\n",
       "      <td>-469.805786</td>\n",
       "      <td>NORDLAND GP.</td>\n",
       "      <td>NaN</td>\n",
       "      <td>19.468800</td>\n",
       "      <td>NaN</td>\n",
       "      <td>1.626459</td>\n",
       "      <td>...</td>\n",
       "      <td>34.779556</td>\n",
       "      <td>NaN</td>\n",
       "      <td>NaN</td>\n",
       "      <td>-0.574245</td>\n",
       "      <td>NaN</td>\n",
       "      <td>NaN</td>\n",
       "      <td>NaN</td>\n",
       "      <td>NaN</td>\n",
       "      <td>65000</td>\n",
       "      <td>1.0</td>\n",
       "    </tr>\n",
       "    <tr>\n",
       "      <th>3</th>\n",
       "      <td>15/9-13</td>\n",
       "      <td>494.984</td>\n",
       "      <td>437641.96875</td>\n",
       "      <td>6470972.5</td>\n",
       "      <td>-469.957794</td>\n",
       "      <td>NORDLAND GP.</td>\n",
       "      <td>NaN</td>\n",
       "      <td>19.459282</td>\n",
       "      <td>NaN</td>\n",
       "      <td>1.621594</td>\n",
       "      <td>...</td>\n",
       "      <td>39.965164</td>\n",
       "      <td>NaN</td>\n",
       "      <td>NaN</td>\n",
       "      <td>-0.586315</td>\n",
       "      <td>NaN</td>\n",
       "      <td>NaN</td>\n",
       "      <td>NaN</td>\n",
       "      <td>NaN</td>\n",
       "      <td>65000</td>\n",
       "      <td>1.0</td>\n",
       "    </tr>\n",
       "    <tr>\n",
       "      <th>4</th>\n",
       "      <td>15/9-13</td>\n",
       "      <td>495.136</td>\n",
       "      <td>437641.96875</td>\n",
       "      <td>6470972.5</td>\n",
       "      <td>-470.109772</td>\n",
       "      <td>NORDLAND GP.</td>\n",
       "      <td>NaN</td>\n",
       "      <td>19.453100</td>\n",
       "      <td>NaN</td>\n",
       "      <td>1.602679</td>\n",
       "      <td>...</td>\n",
       "      <td>57.483765</td>\n",
       "      <td>NaN</td>\n",
       "      <td>NaN</td>\n",
       "      <td>-0.597914</td>\n",
       "      <td>NaN</td>\n",
       "      <td>NaN</td>\n",
       "      <td>NaN</td>\n",
       "      <td>NaN</td>\n",
       "      <td>65000</td>\n",
       "      <td>1.0</td>\n",
       "    </tr>\n",
       "  </tbody>\n",
       "</table>\n",
       "<p>5 rows × 29 columns</p>\n",
       "</div>"
      ],
      "text/plain": [
       "      WELL  DEPTH_MD         X_LOC      Y_LOC       Z_LOC         GROUP  \\\n",
       "0  15/9-13   494.528  437641.96875  6470972.5 -469.501831  NORDLAND GP.   \n",
       "1  15/9-13   494.680  437641.96875  6470972.5 -469.653809  NORDLAND GP.   \n",
       "2  15/9-13   494.832  437641.96875  6470972.5 -469.805786  NORDLAND GP.   \n",
       "3  15/9-13   494.984  437641.96875  6470972.5 -469.957794  NORDLAND GP.   \n",
       "4  15/9-13   495.136  437641.96875  6470972.5 -470.109772  NORDLAND GP.   \n",
       "\n",
       "  FORMATION       CALI  RSHA      RMED  ...        ROP  DTS  DCAL      DRHO  \\\n",
       "0       NaN  19.480835   NaN  1.611410  ...  34.636410  NaN   NaN -0.574928   \n",
       "1       NaN  19.468800   NaN  1.618070  ...  34.636410  NaN   NaN -0.570188   \n",
       "2       NaN  19.468800   NaN  1.626459  ...  34.779556  NaN   NaN -0.574245   \n",
       "3       NaN  19.459282   NaN  1.621594  ...  39.965164  NaN   NaN -0.586315   \n",
       "4       NaN  19.453100   NaN  1.602679  ...  57.483765  NaN   NaN -0.597914   \n",
       "\n",
       "   MUDWEIGHT  RMIC  ROPA  RXO  FORCE_2020_LITHOFACIES_LITHOLOGY  \\\n",
       "0        NaN   NaN   NaN  NaN                             65000   \n",
       "1        NaN   NaN   NaN  NaN                             65000   \n",
       "2        NaN   NaN   NaN  NaN                             65000   \n",
       "3        NaN   NaN   NaN  NaN                             65000   \n",
       "4        NaN   NaN   NaN  NaN                             65000   \n",
       "\n",
       "   FORCE_2020_LITHOFACIES_CONFIDENCE  \n",
       "0                                1.0  \n",
       "1                                1.0  \n",
       "2                                1.0  \n",
       "3                                1.0  \n",
       "4                                1.0  \n",
       "\n",
       "[5 rows x 29 columns]"
      ]
     },
     "execution_count": 4,
     "metadata": {},
     "output_type": "execute_result"
    }
   ],
   "source": [
    "data.head()"
   ]
  },
  {
   "cell_type": "code",
   "execution_count": 5,
   "id": "b73e96e9",
   "metadata": {
    "jupyter": {
     "outputs_hidden": true
    },
    "tags": []
   },
   "outputs": [
    {
     "name": "stdout",
     "output_type": "stream",
     "text": [
      "<class 'pandas.core.frame.DataFrame'>\n",
      "RangeIndex: 1170511 entries, 0 to 1170510\n",
      "Data columns (total 29 columns):\n",
      " #   Column                             Non-Null Count    Dtype  \n",
      "---  ------                             --------------    -----  \n",
      " 0   WELL                               1170511 non-null  object \n",
      " 1   DEPTH_MD                           1170511 non-null  float64\n",
      " 2   X_LOC                              1159736 non-null  float64\n",
      " 3   Y_LOC                              1159736 non-null  float64\n",
      " 4   Z_LOC                              1159736 non-null  float64\n",
      " 5   GROUP                              1169233 non-null  object \n",
      " 6   FORMATION                          1033517 non-null  object \n",
      " 7   CALI                               1082634 non-null  float64\n",
      " 8   RSHA                               630650 non-null   float64\n",
      " 9   RMED                               1131518 non-null  float64\n",
      " 10  RDEP                               1159496 non-null  float64\n",
      " 11  RHOB                               1009242 non-null  float64\n",
      " 12  GR                                 1170511 non-null  float64\n",
      " 13  SGR                                69353 non-null    float64\n",
      " 14  NPHI                               765409 non-null   float64\n",
      " 15  PEF                                671692 non-null   float64\n",
      " 16  DTC                                1089648 non-null  float64\n",
      " 17  SP                                 864247 non-null   float64\n",
      " 18  BS                                 682657 non-null   float64\n",
      " 19  ROP                                535071 non-null   float64\n",
      " 20  DTS                                174613 non-null   float64\n",
      " 21  DCAL                               298833 non-null   float64\n",
      " 22  DRHO                               987857 non-null   float64\n",
      " 23  MUDWEIGHT                          316151 non-null   float64\n",
      " 24  RMIC                               176160 non-null   float64\n",
      " 25  ROPA                               192325 non-null   float64\n",
      " 26  RXO                                327427 non-null   float64\n",
      " 27  FORCE_2020_LITHOFACIES_LITHOLOGY   1170511 non-null  int64  \n",
      " 28  FORCE_2020_LITHOFACIES_CONFIDENCE  1170332 non-null  float64\n",
      "dtypes: float64(25), int64(1), object(3)\n",
      "memory usage: 259.0+ MB\n"
     ]
    }
   ],
   "source": [
    "data.info()"
   ]
  },
  {
   "cell_type": "code",
   "execution_count": 6,
   "id": "2dbc66c6",
   "metadata": {
    "jupyter": {
     "outputs_hidden": true
    },
    "tags": []
   },
   "outputs": [
    {
     "data": {
      "text/plain": [
       "WELL                                       0\n",
       "DEPTH_MD                                   0\n",
       "X_LOC                                  10775\n",
       "Y_LOC                                  10775\n",
       "Z_LOC                                  10775\n",
       "GROUP                                   1278\n",
       "FORMATION                             136994\n",
       "CALI                                   87877\n",
       "RSHA                                  539861\n",
       "RMED                                   38993\n",
       "RDEP                                   11015\n",
       "RHOB                                  161269\n",
       "GR                                         0\n",
       "SGR                                  1101158\n",
       "NPHI                                  405102\n",
       "PEF                                   498819\n",
       "DTC                                    80863\n",
       "SP                                    306264\n",
       "BS                                    487854\n",
       "ROP                                   635440\n",
       "DTS                                   995898\n",
       "DCAL                                  871678\n",
       "DRHO                                  182654\n",
       "MUDWEIGHT                             854360\n",
       "RMIC                                  994351\n",
       "ROPA                                  978186\n",
       "RXO                                   843084\n",
       "FORCE_2020_LITHOFACIES_LITHOLOGY           0\n",
       "FORCE_2020_LITHOFACIES_CONFIDENCE        179\n",
       "dtype: int64"
      ]
     },
     "execution_count": 6,
     "metadata": {},
     "output_type": "execute_result"
    }
   ],
   "source": [
    "data.isna().sum()"
   ]
  },
  {
   "cell_type": "code",
   "execution_count": 7,
   "id": "6d95e1d5",
   "metadata": {
    "jupyter": {
     "outputs_hidden": true
    },
    "tags": []
   },
   "outputs": [
    {
     "data": {
      "text/plain": [
       "<matplotlib.collections.PathCollection at 0x18149c397c0>"
      ]
     },
     "execution_count": 7,
     "metadata": {},
     "output_type": "execute_result"
    },
    {
     "data": {
      "image/png": "[encoded data removed]",
      "text/plain": [
       "<Figure size 432x288 with 1 Axes>"
      ]
     },
     "metadata": {
      "needs_background": "light"
     },
     "output_type": "display_data"
    }
   ],
   "source": [
    "plt.scatter(data['X_LOC'], data['Y_LOC'])"
   ]
  },
  {
   "cell_type": "code",
   "execution_count": 8,
   "id": "1e38ce35",
   "metadata": {},
   "outputs": [],
   "source": [
    "x_train_no_cor = data.dropna(subset=['X_LOC', 'Y_LOC', 'GROUP']).drop(['FORCE_2020_LITHOFACIES_LITHOLOGY', 'FORCE_2020_LITHOFACIES_CONFIDENCE'], axis=1)\n",
    "x_train_no_cor = x_train_no_cor.loc[x_train_no_cor['GROUP'] != 'NORDLAND GP.']\n",
    "x_train_no_cor = x_train_no_cor.reset_index(drop=True)"
   ]
  },
  {
   "cell_type": "code",
   "execution_count": 9,
   "id": "3d8d653e",
   "metadata": {
    "jupyter": {
     "outputs_hidden": true
    },
    "tags": []
   },
   "outputs": [
    {
     "data": {
      "text/plain": [
       "WELL              0\n",
       "DEPTH_MD          0\n",
       "X_LOC             0\n",
       "Y_LOC             0\n",
       "Z_LOC             0\n",
       "GROUP             0\n",
       "FORMATION     54632\n",
       "CALI          67377\n",
       "RSHA         477443\n",
       "RMED          22595\n",
       "RDEP            240\n",
       "RHOB         102603\n",
       "GR                0\n",
       "SGR          985469\n",
       "NPHI         311333\n",
       "PEF          425583\n",
       "DTC           59668\n",
       "SP           280940\n",
       "BS           429828\n",
       "ROP          590850\n",
       "DTS          877321\n",
       "DCAL         778433\n",
       "DRHO         124810\n",
       "MUDWEIGHT    785630\n",
       "RMIC         873816\n",
       "ROPA         864324\n",
       "RXO          748226\n",
       "dtype: int64"
      ]
     },
     "execution_count": 9,
     "metadata": {},
     "output_type": "execute_result"
    }
   ],
   "source": [
    "x_train_no_cor.isna().sum()"
   ]
  },
  {
   "cell_type": "code",
   "execution_count": 10,
   "id": "22b9dc31",
   "metadata": {},
   "outputs": [],
   "source": [
    "kmeans = KMeans(n_clusters=4, random_state=10).fit(x_train_no_cor[['X_LOC', 'Y_LOC']])"
   ]
  },
  {
   "cell_type": "code",
   "execution_count": 11,
   "id": "c5783833",
   "metadata": {},
   "outputs": [],
   "source": [
    "x_train_no_cor.insert(0, \"ZONE\", kmeans.labels_)"
   ]
  },
  {
   "cell_type": "code",
   "execution_count": 12,
   "id": "37c71e76",
   "metadata": {},
   "outputs": [
    {
     "data": {
      "text/plain": [
       "<AxesSubplot:xlabel='X_LOC', ylabel='Y_LOC'>"
      ]
     },
     "execution_count": 12,
     "metadata": {},
     "output_type": "execute_result"
    },
    {
     "data": {
      "image/png": "[encoded data removed]",
      "text/plain": [
       "<Figure size 432x288 with 1 Axes>"
      ]
     },
     "metadata": {
      "needs_background": "light"
     },
     "output_type": "display_data"
    }
   ],
   "source": [
    "sns.scatterplot(data=x_train_no_cor, x=\"X_LOC\", y=\"Y_LOC\", hue='ZONE')"
   ]
  },
  {
   "cell_type": "code",
   "execution_count": 13,
   "id": "f0a01832",
   "metadata": {},
   "outputs": [
    {
     "data": {
      "text/plain": [
       "<AxesSubplot:>"
      ]
     },
     "execution_count": 13,
     "metadata": {},
     "output_type": "execute_result"
    },
    {
     "data": {
      "image/png": "[encoded data removed]",
      "text/plain": [
       "<Figure size 1440x1080 with 2 Axes>"
      ]
     },
     "metadata": {
      "needs_background": "light"
     },
     "output_type": "display_data"
    }
   ],
   "source": [
    "ax = plt.subplots(figsize=(20,15))\n",
    "sns.heatmap(x_train_no_cor.drop(['WELL', 'GROUP', 'FORMATION', 'X_LOC', 'Y_LOC'], axis=1))"
   ]
  },
  {
   "cell_type": "code",
   "execution_count": 14,
   "id": "68831257",
   "metadata": {},
   "outputs": [],
   "source": [
    "x_train_no_cor = x_train_no_cor.drop(['X_LOC', 'Y_LOC', 'SGR', 'BS', 'ROP', 'DTS', 'DCAL', 'MUDWEIGHT', 'RMIC', 'ROPA', 'RXO', 'RSHA', 'PEF'], axis=1)"
   ]
  },
  {
   "cell_type": "code",
   "execution_count": 15,
   "id": "1d9a957b",
   "metadata": {
    "jupyter": {
     "outputs_hidden": true
    },
    "tags": []
   },
   "outputs": [
    {
     "data": {
      "text/html": [
       "<div>\n",
       "<style scoped>\n",
       "    .dataframe tbody tr th:only-of-type {\n",
       "        vertical-align: middle;\n",
       "    }\n",
       "\n",
       "    .dataframe tbody tr th {\n",
       "        vertical-align: top;\n",
       "    }\n",
       "\n",
       "    .dataframe thead th {\n",
       "        text-align: right;\n",
       "    }\n",
       "</style>\n",
       "<table border=\"1\" class=\"dataframe\">\n",
       "  <thead>\n",
       "    <tr style=\"text-align: right;\">\n",
       "      <th></th>\n",
       "      <th>ZONE</th>\n",
       "      <th>WELL</th>\n",
       "      <th>DEPTH_MD</th>\n",
       "      <th>Z_LOC</th>\n",
       "      <th>GROUP</th>\n",
       "      <th>FORMATION</th>\n",
       "      <th>CALI</th>\n",
       "      <th>RMED</th>\n",
       "      <th>RDEP</th>\n",
       "      <th>RHOB</th>\n",
       "      <th>GR</th>\n",
       "      <th>NPHI</th>\n",
       "      <th>DTC</th>\n",
       "      <th>SP</th>\n",
       "      <th>DRHO</th>\n",
       "    </tr>\n",
       "  </thead>\n",
       "  <tbody>\n",
       "    <tr>\n",
       "      <th>0</th>\n",
       "      <td>0</td>\n",
       "      <td>15/9-13</td>\n",
       "      <td>1143.112</td>\n",
       "      <td>-1118.063232</td>\n",
       "      <td>HORDALAND GP.</td>\n",
       "      <td>Utsira Fm.</td>\n",
       "      <td>18.375000</td>\n",
       "      <td>1.069017</td>\n",
       "      <td>1.144099</td>\n",
       "      <td>1.784371</td>\n",
       "      <td>64.467834</td>\n",
       "      <td>0.478446</td>\n",
       "      <td>147.112793</td>\n",
       "      <td>44.992882</td>\n",
       "      <td>-0.002985</td>\n",
       "    </tr>\n",
       "    <tr>\n",
       "      <th>1</th>\n",
       "      <td>0</td>\n",
       "      <td>15/9-13</td>\n",
       "      <td>1143.264</td>\n",
       "      <td>-1118.215210</td>\n",
       "      <td>HORDALAND GP.</td>\n",
       "      <td>Utsira Fm.</td>\n",
       "      <td>18.278408</td>\n",
       "      <td>1.068086</td>\n",
       "      <td>1.106831</td>\n",
       "      <td>1.785219</td>\n",
       "      <td>60.618687</td>\n",
       "      <td>0.467138</td>\n",
       "      <td>147.204041</td>\n",
       "      <td>45.144585</td>\n",
       "      <td>-0.003842</td>\n",
       "    </tr>\n",
       "    <tr>\n",
       "      <th>2</th>\n",
       "      <td>0</td>\n",
       "      <td>15/9-13</td>\n",
       "      <td>1143.416</td>\n",
       "      <td>-1118.367188</td>\n",
       "      <td>HORDALAND GP.</td>\n",
       "      <td>Utsira Fm.</td>\n",
       "      <td>18.658718</td>\n",
       "      <td>1.039512</td>\n",
       "      <td>1.075497</td>\n",
       "      <td>1.791702</td>\n",
       "      <td>56.049240</td>\n",
       "      <td>0.450442</td>\n",
       "      <td>147.278687</td>\n",
       "      <td>43.581387</td>\n",
       "      <td>-0.000292</td>\n",
       "    </tr>\n",
       "    <tr>\n",
       "      <th>3</th>\n",
       "      <td>0</td>\n",
       "      <td>15/9-13</td>\n",
       "      <td>1143.568</td>\n",
       "      <td>-1118.519165</td>\n",
       "      <td>HORDALAND GP.</td>\n",
       "      <td>Utsira Fm.</td>\n",
       "      <td>19.431723</td>\n",
       "      <td>0.975084</td>\n",
       "      <td>1.051254</td>\n",
       "      <td>1.791734</td>\n",
       "      <td>48.986870</td>\n",
       "      <td>0.463271</td>\n",
       "      <td>147.195480</td>\n",
       "      <td>41.952839</td>\n",
       "      <td>0.022891</td>\n",
       "    </tr>\n",
       "    <tr>\n",
       "      <th>4</th>\n",
       "      <td>0</td>\n",
       "      <td>15/9-13</td>\n",
       "      <td>1143.720</td>\n",
       "      <td>-1118.671143</td>\n",
       "      <td>HORDALAND GP.</td>\n",
       "      <td>Utsira Fm.</td>\n",
       "      <td>19.159428</td>\n",
       "      <td>0.916610</td>\n",
       "      <td>1.035293</td>\n",
       "      <td>1.760523</td>\n",
       "      <td>42.177128</td>\n",
       "      <td>0.491838</td>\n",
       "      <td>147.240479</td>\n",
       "      <td>40.295490</td>\n",
       "      <td>0.044334</td>\n",
       "    </tr>\n",
       "  </tbody>\n",
       "</table>\n",
       "</div>"
      ],
      "text/plain": [
       "   ZONE     WELL  DEPTH_MD        Z_LOC          GROUP   FORMATION       CALI  \\\n",
       "0     0  15/9-13  1143.112 -1118.063232  HORDALAND GP.  Utsira Fm.  18.375000   \n",
       "1     0  15/9-13  1143.264 -1118.215210  HORDALAND GP.  Utsira Fm.  18.278408   \n",
       "2     0  15/9-13  1143.416 -1118.367188  HORDALAND GP.  Utsira Fm.  18.658718   \n",
       "3     0  15/9-13  1143.568 -1118.519165  HORDALAND GP.  Utsira Fm.  19.431723   \n",
       "4     0  15/9-13  1143.720 -1118.671143  HORDALAND GP.  Utsira Fm.  19.159428   \n",
       "\n",
       "       RMED      RDEP      RHOB         GR      NPHI         DTC         SP  \\\n",
       "0  1.069017  1.144099  1.784371  64.467834  0.478446  147.112793  44.992882   \n",
       "1  1.068086  1.106831  1.785219  60.618687  0.467138  147.204041  45.144585   \n",
       "2  1.039512  1.075497  1.791702  56.049240  0.450442  147.278687  43.581387   \n",
       "3  0.975084  1.051254  1.791734  48.986870  0.463271  147.195480  41.952839   \n",
       "4  0.916610  1.035293  1.760523  42.177128  0.491838  147.240479  40.295490   \n",
       "\n",
       "       DRHO  \n",
       "0 -0.002985  \n",
       "1 -0.003842  \n",
       "2 -0.000292  \n",
       "3  0.022891  \n",
       "4  0.044334  "
      ]
     },
     "execution_count": 15,
     "metadata": {},
     "output_type": "execute_result"
    }
   ],
   "source": [
    "x_train_no_cor.head()"
   ]
  },
  {
   "cell_type": "code",
   "execution_count": 16,
   "id": "190124a7",
   "metadata": {
    "jupyter": {
     "outputs_hidden": true
    },
    "tags": []
   },
   "outputs": [
    {
     "data": {
      "text/plain": [
       "ZONE              0\n",
       "WELL              0\n",
       "DEPTH_MD          0\n",
       "Z_LOC             0\n",
       "GROUP             0\n",
       "FORMATION     54632\n",
       "CALI          67377\n",
       "RMED          22595\n",
       "RDEP            240\n",
       "RHOB         102603\n",
       "GR                0\n",
       "NPHI         311333\n",
       "DTC           59668\n",
       "SP           280940\n",
       "DRHO         124810\n",
       "dtype: int64"
      ]
     },
     "execution_count": 16,
     "metadata": {},
     "output_type": "execute_result"
    }
   ],
   "source": [
    "x_train_no_cor.isna().sum()"
   ]
  },
  {
   "cell_type": "code",
   "execution_count": 17,
   "id": "0d15bb55",
   "metadata": {},
   "outputs": [],
   "source": [
    "x_train_no_cor_copy = x_train_no_cor.copy(deep=True)"
   ]
  },
  {
   "cell_type": "code",
   "execution_count": 18,
   "id": "8649c5fc",
   "metadata": {
    "tags": []
   },
   "outputs": [
    {
     "name": "stderr",
     "output_type": "stream",
     "text": [
      "C:\\Users\\fedor\\AppData\\Local\\Packages\\PythonSoftwareFoundation.Python.3.8_qbz5n2kfra8p0\\LocalCache\\local-packages\\Python38\\site-packages\\sklearn\\impute\\_iterative.py:700: ConvergenceWarning: [IterativeImputer] Early stopping criterion not reached.\n",
      "  warnings.warn(\n"
     ]
    },
    {
     "data": {
      "text/html": [
       "<style>#sk-container-id-1 {color: black;background-color: white;}#sk-container-id-1 pre{padding: 0;}#sk-container-id-1 div.sk-toggleable {background-color: white;}#sk-container-id-1 label.sk-toggleable__label {cursor: pointer;display: block;width: 100%;margin-bottom: 0;padding: 0.3em;box-sizing: border-box;text-align: center;}#sk-container-id-1 label.sk-toggleable__label-arrow:before {content: \"▸\";float: left;margin-right: 0.25em;color: #696969;}#sk-container-id-1 label.sk-toggleable__label-arrow:hover:before {color: black;}#sk-container-id-1 div.sk-estimator:hover label.sk-toggleable__label-arrow:before {color: black;}#sk-container-id-1 div.sk-toggleable__content {max-height: 0;max-width: 0;overflow: hidden;text-align: left;background-color: #f0f8ff;}#sk-container-id-1 div.sk-toggleable__content pre {margin: 0.2em;color: black;border-radius: 0.25em;background-color: #f0f8ff;}#sk-container-id-1 input.sk-toggleable__control:checked~div.sk-toggleable__content {max-height: 200px;max-width: 100%;overflow: auto;}#sk-container-id-1 input.sk-toggleable__control:checked~label.sk-toggleable__label-arrow:before {content: \"▾\";}#sk-container-id-1 div.sk-estimator input.sk-toggleable__control:checked~label.sk-toggleable__label {background-color: #d4ebff;}#sk-container-id-1 div.sk-label input.sk-toggleable__control:checked~label.sk-toggleable__label {background-color: #d4ebff;}#sk-container-id-1 input.sk-hidden--visually {border: 0;clip: rect(1px 1px 1px 1px);clip: rect(1px, 1px, 1px, 1px);height: 1px;margin: -1px;overflow: hidden;padding: 0;position: absolute;width: 1px;}#sk-container-id-1 div.sk-estimator {font-family: monospace;background-color: #f0f8ff;border: 1px dotted black;border-radius: 0.25em;box-sizing: border-box;margin-bottom: 0.5em;}#sk-container-id-1 div.sk-estimator:hover {background-color: #d4ebff;}#sk-container-id-1 div.sk-parallel-item::after {content: \"\";width: 100%;border-bottom: 1px solid gray;flex-grow: 1;}#sk-container-id-1 div.sk-label:hover label.sk-toggleable__label {background-color: #d4ebff;}#sk-container-id-1 div.sk-serial::before {content: \"\";position: absolute;border-left: 1px solid gray;box-sizing: border-box;top: 0;bottom: 0;left: 50%;z-index: 0;}#sk-container-id-1 div.sk-serial {display: flex;flex-direction: column;align-items: center;background-color: white;padding-right: 0.2em;padding-left: 0.2em;position: relative;}#sk-container-id-1 div.sk-item {position: relative;z-index: 1;}#sk-container-id-1 div.sk-parallel {display: flex;align-items: stretch;justify-content: center;background-color: white;position: relative;}#sk-container-id-1 div.sk-item::before, #sk-container-id-1 div.sk-parallel-item::before {content: \"\";position: absolute;border-left: 1px solid gray;box-sizing: border-box;top: 0;bottom: 0;left: 50%;z-index: -1;}#sk-container-id-1 div.sk-parallel-item {display: flex;flex-direction: column;z-index: 1;position: relative;background-color: white;}#sk-container-id-1 div.sk-parallel-item:first-child::after {align-self: flex-end;width: 50%;}#sk-container-id-1 div.sk-parallel-item:last-child::after {align-self: flex-start;width: 50%;}#sk-container-id-1 div.sk-parallel-item:only-child::after {width: 0;}#sk-container-id-1 div.sk-dashed-wrapped {border: 1px dashed gray;margin: 0 0.4em 0.5em 0.4em;box-sizing: border-box;padding-bottom: 0.4em;background-color: white;}#sk-container-id-1 div.sk-label label {font-family: monospace;font-weight: bold;display: inline-block;line-height: 1.2em;}#sk-container-id-1 div.sk-label-container {text-align: center;}#sk-container-id-1 div.sk-container {/* jupyter's `normalize.less` sets `[hidden] { display: none; }` but bootstrap.min.css set `[hidden] { display: none !important; }` so we also need the `!important` here to be able to override the default hidden behavior on the sphinx rendered scikit-learn.org. See: https://github.com/scikit-learn/scikit-learn/issues/21755 */display: inline-block !important;position: relative;}#sk-container-id-1 div.sk-text-repr-fallback {display: none;}</style><div id=\"sk-container-id-1\" class=\"sk-top-container\"><div class=\"sk-text-repr-fallback\"><pre>IterativeImputer(estimator=BayesianRidge(), max_iter=5, random_state=0)</pre><b>In a Jupyter environment, please rerun this cell to show the HTML representation or trust the notebook. <br />On GitHub, the HTML representation is unable to render, please try loading this page with nbviewer.org.</b></div><div class=\"sk-container\" hidden><div class=\"sk-item sk-dashed-wrapped\"><div class=\"sk-label-container\"><div class=\"sk-label sk-toggleable\"><input class=\"sk-toggleable__control sk-hidden--visually\" id=\"sk-estimator-id-1\" type=\"checkbox\" ><label for=\"sk-estimator-id-1\" class=\"sk-toggleable__label sk-toggleable__label-arrow\">IterativeImputer</label><div class=\"sk-toggleable__content\"><pre>IterativeImputer(estimator=BayesianRidge(), max_iter=5, random_state=0)</pre></div></div></div><div class=\"sk-parallel\"><div class=\"sk-parallel-item\"><div class=\"sk-item\"><div class=\"sk-label-container\"><div class=\"sk-label sk-toggleable\"><input class=\"sk-toggleable__control sk-hidden--visually\" id=\"sk-estimator-id-2\" type=\"checkbox\" ><label for=\"sk-estimator-id-2\" class=\"sk-toggleable__label sk-toggleable__label-arrow\">estimator: BayesianRidge</label><div class=\"sk-toggleable__content\"><pre>BayesianRidge()</pre></div></div></div><div class=\"sk-serial\"><div class=\"sk-item\"><div class=\"sk-estimator sk-toggleable\"><input class=\"sk-toggleable__control sk-hidden--visually\" id=\"sk-estimator-id-3\" type=\"checkbox\" ><label for=\"sk-estimator-id-3\" class=\"sk-toggleable__label sk-toggleable__label-arrow\">BayesianRidge</label><div class=\"sk-toggleable__content\"><pre>BayesianRidge()</pre></div></div></div></div></div></div></div></div></div></div>"
      ],
      "text/plain": [
       "IterativeImputer(estimator=BayesianRidge(), max_iter=5, random_state=0)"
      ]
     },
     "execution_count": 18,
     "metadata": {},
     "output_type": "execute_result"
    }
   ],
   "source": [
    "# imp = IterativeImputer(random_state=0, max_iter=2, estimator=KNeighborsRegressor(n_neighbors=15, n_jobs=6))\n",
    "imp = IterativeImputer(random_state=0, max_iter=5, estimator=BayesianRidge())\n",
    "imp.fit(x_train_no_cor_copy[['CALI', 'RMED', 'RDEP', 'RHOB', 'NPHI', 'DTC', 'SP', 'DRHO']])"
   ]
  },
  {
   "cell_type": "code",
   "execution_count": 19,
   "id": "6066b116",
   "metadata": {},
   "outputs": [],
   "source": [
    "x_train_no_cor_copy = pd.DataFrame(imp.transform(x_train_no_cor_copy[['CALI', 'RMED', 'RDEP', 'RHOB', 'NPHI', 'DTC', 'SP', 'DRHO']]), columns=['CALI', 'RMED', 'RDEP', 'RHOB', 'NPHI', 'DTC', 'SP', 'DRHO'])"
   ]
  },
  {
   "cell_type": "code",
   "execution_count": 20,
   "id": "456993bf",
   "metadata": {
    "jupyter": {
     "outputs_hidden": true
    },
    "tags": []
   },
   "outputs": [
    {
     "data": {
      "text/html": [
       "<div>\n",
       "<style scoped>\n",
       "    .dataframe tbody tr th:only-of-type {\n",
       "        vertical-align: middle;\n",
       "    }\n",
       "\n",
       "    .dataframe tbody tr th {\n",
       "        vertical-align: top;\n",
       "    }\n",
       "\n",
       "    .dataframe thead th {\n",
       "        text-align: right;\n",
       "    }\n",
       "</style>\n",
       "<table border=\"1\" class=\"dataframe\">\n",
       "  <thead>\n",
       "    <tr style=\"text-align: right;\">\n",
       "      <th></th>\n",
       "      <th>CALI</th>\n",
       "      <th>RMED</th>\n",
       "      <th>RDEP</th>\n",
       "      <th>RHOB</th>\n",
       "      <th>NPHI</th>\n",
       "      <th>DTC</th>\n",
       "      <th>SP</th>\n",
       "      <th>DRHO</th>\n",
       "    </tr>\n",
       "  </thead>\n",
       "  <tbody>\n",
       "    <tr>\n",
       "      <th>0</th>\n",
       "      <td>18.375000</td>\n",
       "      <td>1.069017</td>\n",
       "      <td>1.144099</td>\n",
       "      <td>1.784371</td>\n",
       "      <td>0.478446</td>\n",
       "      <td>147.112793</td>\n",
       "      <td>44.992882</td>\n",
       "      <td>-0.002985</td>\n",
       "    </tr>\n",
       "    <tr>\n",
       "      <th>1</th>\n",
       "      <td>18.278408</td>\n",
       "      <td>1.068086</td>\n",
       "      <td>1.106831</td>\n",
       "      <td>1.785219</td>\n",
       "      <td>0.467138</td>\n",
       "      <td>147.204041</td>\n",
       "      <td>45.144585</td>\n",
       "      <td>-0.003842</td>\n",
       "    </tr>\n",
       "    <tr>\n",
       "      <th>2</th>\n",
       "      <td>18.658718</td>\n",
       "      <td>1.039512</td>\n",
       "      <td>1.075497</td>\n",
       "      <td>1.791702</td>\n",
       "      <td>0.450442</td>\n",
       "      <td>147.278687</td>\n",
       "      <td>43.581387</td>\n",
       "      <td>-0.000292</td>\n",
       "    </tr>\n",
       "    <tr>\n",
       "      <th>3</th>\n",
       "      <td>19.431723</td>\n",
       "      <td>0.975084</td>\n",
       "      <td>1.051254</td>\n",
       "      <td>1.791734</td>\n",
       "      <td>0.463271</td>\n",
       "      <td>147.195480</td>\n",
       "      <td>41.952839</td>\n",
       "      <td>0.022891</td>\n",
       "    </tr>\n",
       "    <tr>\n",
       "      <th>4</th>\n",
       "      <td>19.159428</td>\n",
       "      <td>0.916610</td>\n",
       "      <td>1.035293</td>\n",
       "      <td>1.760523</td>\n",
       "      <td>0.491838</td>\n",
       "      <td>147.240479</td>\n",
       "      <td>40.295490</td>\n",
       "      <td>0.044334</td>\n",
       "    </tr>\n",
       "  </tbody>\n",
       "</table>\n",
       "</div>"
      ],
      "text/plain": [
       "        CALI      RMED      RDEP      RHOB      NPHI         DTC         SP  \\\n",
       "0  18.375000  1.069017  1.144099  1.784371  0.478446  147.112793  44.992882   \n",
       "1  18.278408  1.068086  1.106831  1.785219  0.467138  147.204041  45.144585   \n",
       "2  18.658718  1.039512  1.075497  1.791702  0.450442  147.278687  43.581387   \n",
       "3  19.431723  0.975084  1.051254  1.791734  0.463271  147.195480  41.952839   \n",
       "4  19.159428  0.916610  1.035293  1.760523  0.491838  147.240479  40.295490   \n",
       "\n",
       "       DRHO  \n",
       "0 -0.002985  \n",
       "1 -0.003842  \n",
       "2 -0.000292  \n",
       "3  0.022891  \n",
       "4  0.044334  "
      ]
     },
     "execution_count": 20,
     "metadata": {},
     "output_type": "execute_result"
    }
   ],
   "source": [
    "x_train_no_cor_copy.head()"
   ]
  },
  {
   "cell_type": "code",
   "execution_count": 21,
   "id": "6191a8b5",
   "metadata": {
    "jupyter": {
     "outputs_hidden": true
    },
    "tags": []
   },
   "outputs": [
    {
     "data": {
      "text/plain": [
       "CALI    0\n",
       "RMED    0\n",
       "RDEP    0\n",
       "RHOB    0\n",
       "NPHI    0\n",
       "DTC     0\n",
       "SP      0\n",
       "DRHO    0\n",
       "dtype: int64"
      ]
     },
     "execution_count": 21,
     "metadata": {},
     "output_type": "execute_result"
    }
   ],
   "source": [
    "x_train_no_cor_copy.isna().sum()"
   ]
  },
  {
   "cell_type": "code",
   "execution_count": 22,
   "id": "97427a56",
   "metadata": {},
   "outputs": [],
   "source": [
    "x_train_no_cor[['CALI', 'RMED', 'RDEP', 'RHOB', 'NPHI', 'DTC', 'SP', 'DRHO']] = x_train_no_cor_copy[['CALI', 'RMED', 'RDEP', 'RHOB', 'NPHI', 'DTC', 'SP', 'DRHO']]"
   ]
  },
  {
   "cell_type": "code",
   "execution_count": 23,
   "id": "f52bd9dc",
   "metadata": {},
   "outputs": [
    {
     "data": {
      "text/html": [
       "<div>\n",
       "<style scoped>\n",
       "    .dataframe tbody tr th:only-of-type {\n",
       "        vertical-align: middle;\n",
       "    }\n",
       "\n",
       "    .dataframe tbody tr th {\n",
       "        vertical-align: top;\n",
       "    }\n",
       "\n",
       "    .dataframe thead th {\n",
       "        text-align: right;\n",
       "    }\n",
       "</style>\n",
       "<table border=\"1\" class=\"dataframe\">\n",
       "  <thead>\n",
       "    <tr style=\"text-align: right;\">\n",
       "      <th></th>\n",
       "      <th>ZONE</th>\n",
       "      <th>WELL</th>\n",
       "      <th>DEPTH_MD</th>\n",
       "      <th>Z_LOC</th>\n",
       "      <th>GROUP</th>\n",
       "      <th>FORMATION</th>\n",
       "      <th>CALI</th>\n",
       "      <th>RMED</th>\n",
       "      <th>RDEP</th>\n",
       "      <th>RHOB</th>\n",
       "      <th>GR</th>\n",
       "      <th>NPHI</th>\n",
       "      <th>DTC</th>\n",
       "      <th>SP</th>\n",
       "      <th>DRHO</th>\n",
       "    </tr>\n",
       "  </thead>\n",
       "  <tbody>\n",
       "    <tr>\n",
       "      <th>0</th>\n",
       "      <td>0</td>\n",
       "      <td>15/9-13</td>\n",
       "      <td>1143.112</td>\n",
       "      <td>-1118.063232</td>\n",
       "      <td>HORDALAND GP.</td>\n",
       "      <td>Utsira Fm.</td>\n",
       "      <td>18.375000</td>\n",
       "      <td>1.069017</td>\n",
       "      <td>1.144099</td>\n",
       "      <td>1.784371</td>\n",
       "      <td>64.467834</td>\n",
       "      <td>0.478446</td>\n",
       "      <td>147.112793</td>\n",
       "      <td>44.992882</td>\n",
       "      <td>-0.002985</td>\n",
       "    </tr>\n",
       "    <tr>\n",
       "      <th>1</th>\n",
       "      <td>0</td>\n",
       "      <td>15/9-13</td>\n",
       "      <td>1143.264</td>\n",
       "      <td>-1118.215210</td>\n",
       "      <td>HORDALAND GP.</td>\n",
       "      <td>Utsira Fm.</td>\n",
       "      <td>18.278408</td>\n",
       "      <td>1.068086</td>\n",
       "      <td>1.106831</td>\n",
       "      <td>1.785219</td>\n",
       "      <td>60.618687</td>\n",
       "      <td>0.467138</td>\n",
       "      <td>147.204041</td>\n",
       "      <td>45.144585</td>\n",
       "      <td>-0.003842</td>\n",
       "    </tr>\n",
       "    <tr>\n",
       "      <th>2</th>\n",
       "      <td>0</td>\n",
       "      <td>15/9-13</td>\n",
       "      <td>1143.416</td>\n",
       "      <td>-1118.367188</td>\n",
       "      <td>HORDALAND GP.</td>\n",
       "      <td>Utsira Fm.</td>\n",
       "      <td>18.658718</td>\n",
       "      <td>1.039512</td>\n",
       "      <td>1.075497</td>\n",
       "      <td>1.791702</td>\n",
       "      <td>56.049240</td>\n",
       "      <td>0.450442</td>\n",
       "      <td>147.278687</td>\n",
       "      <td>43.581387</td>\n",
       "      <td>-0.000292</td>\n",
       "    </tr>\n",
       "    <tr>\n",
       "      <th>3</th>\n",
       "      <td>0</td>\n",
       "      <td>15/9-13</td>\n",
       "      <td>1143.568</td>\n",
       "      <td>-1118.519165</td>\n",
       "      <td>HORDALAND GP.</td>\n",
       "      <td>Utsira Fm.</td>\n",
       "      <td>19.431723</td>\n",
       "      <td>0.975084</td>\n",
       "      <td>1.051254</td>\n",
       "      <td>1.791734</td>\n",
       "      <td>48.986870</td>\n",
       "      <td>0.463271</td>\n",
       "      <td>147.195480</td>\n",
       "      <td>41.952839</td>\n",
       "      <td>0.022891</td>\n",
       "    </tr>\n",
       "    <tr>\n",
       "      <th>4</th>\n",
       "      <td>0</td>\n",
       "      <td>15/9-13</td>\n",
       "      <td>1143.720</td>\n",
       "      <td>-1118.671143</td>\n",
       "      <td>HORDALAND GP.</td>\n",
       "      <td>Utsira Fm.</td>\n",
       "      <td>19.159428</td>\n",
       "      <td>0.916610</td>\n",
       "      <td>1.035293</td>\n",
       "      <td>1.760523</td>\n",
       "      <td>42.177128</td>\n",
       "      <td>0.491838</td>\n",
       "      <td>147.240479</td>\n",
       "      <td>40.295490</td>\n",
       "      <td>0.044334</td>\n",
       "    </tr>\n",
       "  </tbody>\n",
       "</table>\n",
       "</div>"
      ],
      "text/plain": [
       "   ZONE     WELL  DEPTH_MD        Z_LOC          GROUP   FORMATION       CALI  \\\n",
       "0     0  15/9-13  1143.112 -1118.063232  HORDALAND GP.  Utsira Fm.  18.375000   \n",
       "1     0  15/9-13  1143.264 -1118.215210  HORDALAND GP.  Utsira Fm.  18.278408   \n",
       "2     0  15/9-13  1143.416 -1118.367188  HORDALAND GP.  Utsira Fm.  18.658718   \n",
       "3     0  15/9-13  1143.568 -1118.519165  HORDALAND GP.  Utsira Fm.  19.431723   \n",
       "4     0  15/9-13  1143.720 -1118.671143  HORDALAND GP.  Utsira Fm.  19.159428   \n",
       "\n",
       "       RMED      RDEP      RHOB         GR      NPHI         DTC         SP  \\\n",
       "0  1.069017  1.144099  1.784371  64.467834  0.478446  147.112793  44.992882   \n",
       "1  1.068086  1.106831  1.785219  60.618687  0.467138  147.204041  45.144585   \n",
       "2  1.039512  1.075497  1.791702  56.049240  0.450442  147.278687  43.581387   \n",
       "3  0.975084  1.051254  1.791734  48.986870  0.463271  147.195480  41.952839   \n",
       "4  0.916610  1.035293  1.760523  42.177128  0.491838  147.240479  40.295490   \n",
       "\n",
       "       DRHO  \n",
       "0 -0.002985  \n",
       "1 -0.003842  \n",
       "2 -0.000292  \n",
       "3  0.022891  \n",
       "4  0.044334  "
      ]
     },
     "execution_count": 23,
     "metadata": {},
     "output_type": "execute_result"
    }
   ],
   "source": [
    "x_train_no_cor.head()"
   ]
  },
  {
   "cell_type": "code",
   "execution_count": 24,
   "id": "0b6974a0",
   "metadata": {
    "jupyter": {
     "outputs_hidden": true
    },
    "tags": []
   },
   "outputs": [
    {
     "data": {
      "text/plain": [
       "ZONE             0\n",
       "WELL             0\n",
       "DEPTH_MD         0\n",
       "Z_LOC            0\n",
       "GROUP            0\n",
       "FORMATION    54632\n",
       "CALI             0\n",
       "RMED             0\n",
       "RDEP             0\n",
       "RHOB             0\n",
       "GR               0\n",
       "NPHI             0\n",
       "DTC              0\n",
       "SP               0\n",
       "DRHO             0\n",
       "dtype: int64"
      ]
     },
     "execution_count": 24,
     "metadata": {},
     "output_type": "execute_result"
    }
   ],
   "source": [
    "x_train_no_cor.isna().sum()"
   ]
  },
  {
   "cell_type": "code",
   "execution_count": 25,
   "id": "941af4e9",
   "metadata": {},
   "outputs": [],
   "source": [
    "from itertools import takewhile\n",
    "from collections import Counter\n",
    "\n",
    "def mode(x):\n",
    "    most_common = Counter(x).most_common()\n",
    "    if not most_common:\n",
    "        return []\n",
    "    else:\n",
    "        max_count = most_common[0][1]\n",
    "        return [x for x, count in takewhile(lambda x: x[1]==max_count, most_common)]"
   ]
  },
  {
   "cell_type": "code",
   "execution_count": 26,
   "id": "6f90aadf",
   "metadata": {},
   "outputs": [
    {
     "data": {
      "text/plain": [
       "0          Utsira Fm.\n",
       "1          Utsira Fm.\n",
       "2          Utsira Fm.\n",
       "3          Utsira Fm.\n",
       "4          Utsira Fm.\n",
       "              ...    \n",
       "1049964     Bryne Fm.\n",
       "1049965     Bryne Fm.\n",
       "1049966     Bryne Fm.\n",
       "1049967     Bryne Fm.\n",
       "1049968     Bryne Fm.\n",
       "Name: FORMATION, Length: 1049969, dtype: object"
      ]
     },
     "execution_count": 26,
     "metadata": {},
     "output_type": "execute_result"
    }
   ],
   "source": [
    "x_train_no_cor['FORMATION']"
   ]
  },
  {
   "cell_type": "code",
   "execution_count": 27,
   "id": "69f99abc",
   "metadata": {
    "jupyter": {
     "outputs_hidden": true
    },
    "tags": []
   },
   "outputs": [],
   "source": [
    "import statistics\n",
    "\n",
    "# formations = []\n",
    "top_formations_in_groups = []\n",
    "formations_nordland = []\n",
    "#flag_list = x_train_no_cor['FORMATION'].isna().tolist()\n",
    "# top_formations_in_groups_self_mode = []\n",
    "for grp in x_train_no_cor['GROUP'].dropna().unique():\n",
    "    formations = []\n",
    "    c = 0\n",
    "    for frm in x_train_no_cor['FORMATION']:\n",
    "        #if (x_train_no_cor.at[c, 'GROUP'] == grp):\n",
    "        #if (x_train_no_cor.iloc[c]['GROUP'] == grp):\n",
    "        if x_train_no_cor['GROUP'].values[c] == grp:\n",
    "        # if x_train_no_cor['GROUP'].values[c] != 'NORDLAND GP.' and (x_train_no_cor['GROUP'].values[c] == grp):\n",
    "            formations.append(frm)\n",
    "        # if x_train_no_cor['GROUP'].values[c] == 'NORDLAND GP.' and flag_list[c] == False:\n",
    "            # formations_nordland.append(frm)\n",
    "        c += 1\n",
    "    top_formations_in_groups.append(statistics.mode(formations))\n",
    "    # print(top_formations_in_groups[-1])\n",
    "    # top_formations_in_groups_self_mode.append(mode(formations))\n",
    "\n",
    "# top = x_train['FORMATION'].describe()['top']\n",
    "# x_train['FORMATION'] = x_train['FORMATION'].fillna(top)"
   ]
  },
  {
   "cell_type": "code",
   "execution_count": 28,
   "id": "dc697218-e743-4f60-8dc4-e1ad951fcb81",
   "metadata": {
    "jupyter": {
     "outputs_hidden": true
    },
    "tags": []
   },
   "outputs": [
    {
     "data": {
      "text/plain": [
       "['Utsira Fm.',\n",
       " 'Lista Fm.',\n",
       " 'Kyrre Fm.',\n",
       " 'Roedby Fm.',\n",
       " 'Heather Fm.',\n",
       " 'Sleipner Fm.',\n",
       " 'Smith Bank Fm.',\n",
       " 'Skagerrak Fm.',\n",
       " 'Kupferschiefer Fm.',\n",
       " 'Mandal Fm.',\n",
       " 'Smith Bank Fm.',\n",
       " 'Statfjord Fm.',\n",
       " 'Ness Fm.']"
      ]
     },
     "execution_count": 28,
     "metadata": {},
     "output_type": "execute_result"
    }
   ],
   "source": [
    "top_formations_in_groups"
   ]
  },
  {
   "cell_type": "code",
   "execution_count": 29,
   "id": "f6193583",
   "metadata": {
    "jupyter": {
     "outputs_hidden": true
    },
    "tags": []
   },
   "outputs": [
    {
     "data": {
      "text/plain": [
       "'Utsira Fm.'"
      ]
     },
     "execution_count": 29,
     "metadata": {},
     "output_type": "execute_result"
    }
   ],
   "source": [
    "x_train_no_cor['FORMATION'].describe()['top']"
   ]
  },
  {
   "cell_type": "code",
   "execution_count": 30,
   "id": "264811e3",
   "metadata": {},
   "outputs": [],
   "source": [
    "formation_recovery_mode = dict(zip(x_train_no_cor['GROUP'].dropna().unique(), top_formations_in_groups))"
   ]
  },
  {
   "cell_type": "code",
   "execution_count": 31,
   "id": "536b2c00",
   "metadata": {
    "jupyter": {
     "outputs_hidden": true
    },
    "tags": []
   },
   "outputs": [
    {
     "data": {
      "text/plain": [
       "{'HORDALAND GP.': 'Utsira Fm.',\n",
       " 'ROGALAND GP.': 'Lista Fm.',\n",
       " 'SHETLAND GP.': 'Kyrre Fm.',\n",
       " 'CROMER KNOLL GP.': 'Roedby Fm.',\n",
       " 'VIKING GP.': 'Heather Fm.',\n",
       " 'VESTLAND GP.': 'Sleipner Fm.',\n",
       " 'ZECHSTEIN GP.': 'Smith Bank Fm.',\n",
       " 'HEGRE GP.': 'Skagerrak Fm.',\n",
       " 'ROTLIEGENDES GP.': 'Kupferschiefer Fm.',\n",
       " 'TYNE GP.': 'Mandal Fm.',\n",
       " 'BOKNFJORD GP.': 'Smith Bank Fm.',\n",
       " 'DUNLIN GP.': 'Statfjord Fm.',\n",
       " 'BAAT GP.': 'Ness Fm.'}"
      ]
     },
     "execution_count": 31,
     "metadata": {},
     "output_type": "execute_result"
    }
   ],
   "source": [
    "formation_recovery_mode"
   ]
  },
  {
   "cell_type": "code",
   "execution_count": 32,
   "id": "d30f7c1a",
   "metadata": {},
   "outputs": [],
   "source": [
    "c = 0\n",
    "flags_list = x_train_no_cor['FORMATION'].isna().tolist()\n",
    "# for frm in x_train_no_cor['FORMATION']:\n",
    "for frm in range(0, len(x_train_no_cor.index)):\n",
    "    #if x_train_no_cor['FORMATION'].values[c] == 'nan':\n",
    "    #if x_train_no_cor['FORMATION'].values[c]== x_train_no_cor['FORMATION'].isna().tolist()[c]:\n",
    "    if flags_list[c] == True:\n",
    "        # x_train_no_cor['FORMATION'].values[c] = formation_recovery_mode[frm]\n",
    "        x_train_no_cor['FORMATION'].values[c] = formation_recovery_mode[x_train_no_cor['GROUP'].values[c]]\n",
    "        # if((c % 10000) == 0):\n",
    "            # print(x_train_no_cor['FORMATION'].values[c])\n",
    "    c += 1"
   ]
  },
  {
   "cell_type": "code",
   "execution_count": 33,
   "id": "14d2ff70",
   "metadata": {
    "jupyter": {
     "outputs_hidden": true
    },
    "tags": []
   },
   "outputs": [
    {
     "data": {
      "text/plain": [
       "ZONE         0\n",
       "WELL         0\n",
       "DEPTH_MD     0\n",
       "Z_LOC        0\n",
       "GROUP        0\n",
       "FORMATION    0\n",
       "CALI         0\n",
       "RMED         0\n",
       "RDEP         0\n",
       "RHOB         0\n",
       "GR           0\n",
       "NPHI         0\n",
       "DTC          0\n",
       "SP           0\n",
       "DRHO         0\n",
       "dtype: int64"
      ]
     },
     "execution_count": 33,
     "metadata": {},
     "output_type": "execute_result"
    }
   ],
   "source": [
    "x_train_no_cor.isna().sum()"
   ]
  },
  {
   "cell_type": "markdown",
   "id": "0aab4591",
   "metadata": {},
   "source": [
    "**Привожу DataFrame к виду, с которым работал для множества \"x_train_no_cor\"**"
   ]
  },
  {
   "cell_type": "code",
   "execution_count": 34,
   "id": "7f090fbb",
   "metadata": {},
   "outputs": [],
   "source": [
    "data_c = data.dropna(subset=['X_LOC', 'Y_LOC', 'GROUP']).copy(deep=True)\n",
    "data_c = data_c.loc[data_c['GROUP'] != 'NORDLAND GP.']\n",
    "data_c = data_c.reset_index(drop=True)"
   ]
  },
  {
   "cell_type": "code",
   "execution_count": 35,
   "id": "63a6fde2-aa54-4545-a9b8-12ae3c263faa",
   "metadata": {
    "jupyter": {
     "outputs_hidden": true
    },
    "tags": []
   },
   "outputs": [
    {
     "data": {
      "text/html": [
       "<div>\n",
       "<style scoped>\n",
       "    .dataframe tbody tr th:only-of-type {\n",
       "        vertical-align: middle;\n",
       "    }\n",
       "\n",
       "    .dataframe tbody tr th {\n",
       "        vertical-align: top;\n",
       "    }\n",
       "\n",
       "    .dataframe thead th {\n",
       "        text-align: right;\n",
       "    }\n",
       "</style>\n",
       "<table border=\"1\" class=\"dataframe\">\n",
       "  <thead>\n",
       "    <tr style=\"text-align: right;\">\n",
       "      <th></th>\n",
       "      <th>WELL</th>\n",
       "      <th>DEPTH_MD</th>\n",
       "      <th>X_LOC</th>\n",
       "      <th>Y_LOC</th>\n",
       "      <th>Z_LOC</th>\n",
       "      <th>GROUP</th>\n",
       "      <th>FORMATION</th>\n",
       "      <th>CALI</th>\n",
       "      <th>RSHA</th>\n",
       "      <th>RMED</th>\n",
       "      <th>...</th>\n",
       "      <th>ROP</th>\n",
       "      <th>DTS</th>\n",
       "      <th>DCAL</th>\n",
       "      <th>DRHO</th>\n",
       "      <th>MUDWEIGHT</th>\n",
       "      <th>RMIC</th>\n",
       "      <th>ROPA</th>\n",
       "      <th>RXO</th>\n",
       "      <th>FORCE_2020_LITHOFACIES_LITHOLOGY</th>\n",
       "      <th>FORCE_2020_LITHOFACIES_CONFIDENCE</th>\n",
       "    </tr>\n",
       "  </thead>\n",
       "  <tbody>\n",
       "    <tr>\n",
       "      <th>0</th>\n",
       "      <td>15/9-13</td>\n",
       "      <td>1143.112</td>\n",
       "      <td>437640.8125</td>\n",
       "      <td>6470976.0</td>\n",
       "      <td>-1118.063232</td>\n",
       "      <td>HORDALAND GP.</td>\n",
       "      <td>Utsira Fm.</td>\n",
       "      <td>18.375000</td>\n",
       "      <td>NaN</td>\n",
       "      <td>1.069017</td>\n",
       "      <td>...</td>\n",
       "      <td>143.330673</td>\n",
       "      <td>NaN</td>\n",
       "      <td>NaN</td>\n",
       "      <td>-0.002985</td>\n",
       "      <td>0.131809</td>\n",
       "      <td>NaN</td>\n",
       "      <td>NaN</td>\n",
       "      <td>NaN</td>\n",
       "      <td>65000</td>\n",
       "      <td>1.0</td>\n",
       "    </tr>\n",
       "    <tr>\n",
       "      <th>1</th>\n",
       "      <td>15/9-13</td>\n",
       "      <td>1143.264</td>\n",
       "      <td>437640.8125</td>\n",
       "      <td>6470976.0</td>\n",
       "      <td>-1118.215210</td>\n",
       "      <td>HORDALAND GP.</td>\n",
       "      <td>Utsira Fm.</td>\n",
       "      <td>18.278408</td>\n",
       "      <td>NaN</td>\n",
       "      <td>1.068086</td>\n",
       "      <td>...</td>\n",
       "      <td>448.720093</td>\n",
       "      <td>NaN</td>\n",
       "      <td>NaN</td>\n",
       "      <td>-0.003842</td>\n",
       "      <td>0.131809</td>\n",
       "      <td>NaN</td>\n",
       "      <td>NaN</td>\n",
       "      <td>NaN</td>\n",
       "      <td>65000</td>\n",
       "      <td>1.0</td>\n",
       "    </tr>\n",
       "    <tr>\n",
       "      <th>2</th>\n",
       "      <td>15/9-13</td>\n",
       "      <td>1143.416</td>\n",
       "      <td>437640.8125</td>\n",
       "      <td>6470976.0</td>\n",
       "      <td>-1118.367188</td>\n",
       "      <td>HORDALAND GP.</td>\n",
       "      <td>Utsira Fm.</td>\n",
       "      <td>18.658718</td>\n",
       "      <td>NaN</td>\n",
       "      <td>1.039512</td>\n",
       "      <td>...</td>\n",
       "      <td>498.149078</td>\n",
       "      <td>NaN</td>\n",
       "      <td>NaN</td>\n",
       "      <td>-0.000292</td>\n",
       "      <td>0.131809</td>\n",
       "      <td>NaN</td>\n",
       "      <td>NaN</td>\n",
       "      <td>NaN</td>\n",
       "      <td>65000</td>\n",
       "      <td>1.0</td>\n",
       "    </tr>\n",
       "    <tr>\n",
       "      <th>3</th>\n",
       "      <td>15/9-13</td>\n",
       "      <td>1143.568</td>\n",
       "      <td>437640.8125</td>\n",
       "      <td>6470976.0</td>\n",
       "      <td>-1118.519165</td>\n",
       "      <td>HORDALAND GP.</td>\n",
       "      <td>Utsira Fm.</td>\n",
       "      <td>19.431723</td>\n",
       "      <td>NaN</td>\n",
       "      <td>0.975084</td>\n",
       "      <td>...</td>\n",
       "      <td>499.783722</td>\n",
       "      <td>NaN</td>\n",
       "      <td>NaN</td>\n",
       "      <td>0.022891</td>\n",
       "      <td>0.131809</td>\n",
       "      <td>NaN</td>\n",
       "      <td>NaN</td>\n",
       "      <td>NaN</td>\n",
       "      <td>65000</td>\n",
       "      <td>1.0</td>\n",
       "    </tr>\n",
       "    <tr>\n",
       "      <th>4</th>\n",
       "      <td>15/9-13</td>\n",
       "      <td>1143.720</td>\n",
       "      <td>437640.8125</td>\n",
       "      <td>6470976.0</td>\n",
       "      <td>-1118.671143</td>\n",
       "      <td>HORDALAND GP.</td>\n",
       "      <td>Utsira Fm.</td>\n",
       "      <td>19.159428</td>\n",
       "      <td>NaN</td>\n",
       "      <td>0.916610</td>\n",
       "      <td>...</td>\n",
       "      <td>539.977722</td>\n",
       "      <td>NaN</td>\n",
       "      <td>NaN</td>\n",
       "      <td>0.044334</td>\n",
       "      <td>0.131809</td>\n",
       "      <td>NaN</td>\n",
       "      <td>NaN</td>\n",
       "      <td>NaN</td>\n",
       "      <td>30000</td>\n",
       "      <td>1.0</td>\n",
       "    </tr>\n",
       "  </tbody>\n",
       "</table>\n",
       "<p>5 rows × 29 columns</p>\n",
       "</div>"
      ],
      "text/plain": [
       "      WELL  DEPTH_MD        X_LOC      Y_LOC        Z_LOC          GROUP  \\\n",
       "0  15/9-13  1143.112  437640.8125  6470976.0 -1118.063232  HORDALAND GP.   \n",
       "1  15/9-13  1143.264  437640.8125  6470976.0 -1118.215210  HORDALAND GP.   \n",
       "2  15/9-13  1143.416  437640.8125  6470976.0 -1118.367188  HORDALAND GP.   \n",
       "3  15/9-13  1143.568  437640.8125  6470976.0 -1118.519165  HORDALAND GP.   \n",
       "4  15/9-13  1143.720  437640.8125  6470976.0 -1118.671143  HORDALAND GP.   \n",
       "\n",
       "    FORMATION       CALI  RSHA      RMED  ...         ROP  DTS  DCAL  \\\n",
       "0  Utsira Fm.  18.375000   NaN  1.069017  ...  143.330673  NaN   NaN   \n",
       "1  Utsira Fm.  18.278408   NaN  1.068086  ...  448.720093  NaN   NaN   \n",
       "2  Utsira Fm.  18.658718   NaN  1.039512  ...  498.149078  NaN   NaN   \n",
       "3  Utsira Fm.  19.431723   NaN  0.975084  ...  499.783722  NaN   NaN   \n",
       "4  Utsira Fm.  19.159428   NaN  0.916610  ...  539.977722  NaN   NaN   \n",
       "\n",
       "       DRHO  MUDWEIGHT  RMIC  ROPA  RXO  FORCE_2020_LITHOFACIES_LITHOLOGY  \\\n",
       "0 -0.002985   0.131809   NaN   NaN  NaN                             65000   \n",
       "1 -0.003842   0.131809   NaN   NaN  NaN                             65000   \n",
       "2 -0.000292   0.131809   NaN   NaN  NaN                             65000   \n",
       "3  0.022891   0.131809   NaN   NaN  NaN                             65000   \n",
       "4  0.044334   0.131809   NaN   NaN  NaN                             30000   \n",
       "\n",
       "   FORCE_2020_LITHOFACIES_CONFIDENCE  \n",
       "0                                1.0  \n",
       "1                                1.0  \n",
       "2                                1.0  \n",
       "3                                1.0  \n",
       "4                                1.0  \n",
       "\n",
       "[5 rows x 29 columns]"
      ]
     },
     "execution_count": 35,
     "metadata": {},
     "output_type": "execute_result"
    }
   ],
   "source": [
    "data_c.head()"
   ]
  },
  {
   "cell_type": "code",
   "execution_count": 36,
   "id": "4c98a16a",
   "metadata": {},
   "outputs": [],
   "source": [
    "# y_train = data.FORCE_2020_LITHOFACIES_LITHOLOGY\n",
    "y_train = data_c['FORCE_2020_LITHOFACIES_LITHOLOGY']\n",
    "# x_train = data.drop(['FORCE_2020_LITHOFACIES_LITHOLOGY', 'FORCE_2020_LITHOFACIES_CONFIDENCE'], axis=1)\n",
    "#x_train = data.drop(['FORCE_2020_LITHOFACIES_LITHOLOGY', 'FORCE_2020_LITHOFACIES_CONFIDENCE', 'SGR', 'DCAL', 'ROPA', 'RMIC', 'DTS'], axis=1)"
   ]
  },
  {
   "cell_type": "code",
   "execution_count": 37,
   "id": "f8e17103",
   "metadata": {},
   "outputs": [],
   "source": [
    "# x_train, y_train = shuffle(x_train, y_train, random_state=42)\n",
    "x_train_no_cor, y_train = shuffle(x_train_no_cor, y_train, random_state=42)"
   ]
  },
  {
   "cell_type": "code",
   "execution_count": 38,
   "id": "a97dfc17",
   "metadata": {
    "jupyter": {
     "outputs_hidden": true
    },
    "tags": []
   },
   "outputs": [
    {
     "data": {
      "text/html": [
       "<div>\n",
       "<style scoped>\n",
       "    .dataframe tbody tr th:only-of-type {\n",
       "        vertical-align: middle;\n",
       "    }\n",
       "\n",
       "    .dataframe tbody tr th {\n",
       "        vertical-align: top;\n",
       "    }\n",
       "\n",
       "    .dataframe thead th {\n",
       "        text-align: right;\n",
       "    }\n",
       "</style>\n",
       "<table border=\"1\" class=\"dataframe\">\n",
       "  <thead>\n",
       "    <tr style=\"text-align: right;\">\n",
       "      <th></th>\n",
       "      <th>ZONE</th>\n",
       "      <th>WELL</th>\n",
       "      <th>DEPTH_MD</th>\n",
       "      <th>Z_LOC</th>\n",
       "      <th>GROUP</th>\n",
       "      <th>FORMATION</th>\n",
       "      <th>CALI</th>\n",
       "      <th>RMED</th>\n",
       "      <th>RDEP</th>\n",
       "      <th>RHOB</th>\n",
       "      <th>GR</th>\n",
       "      <th>NPHI</th>\n",
       "      <th>DTC</th>\n",
       "      <th>SP</th>\n",
       "      <th>DRHO</th>\n",
       "    </tr>\n",
       "  </thead>\n",
       "  <tbody>\n",
       "    <tr>\n",
       "      <th>823938</th>\n",
       "      <td>3</td>\n",
       "      <td>34/8-1</td>\n",
       "      <td>2278.289023</td>\n",
       "      <td>-2247.777832</td>\n",
       "      <td>SHETLAND GP.</td>\n",
       "      <td>Lista Fm.</td>\n",
       "      <td>13.184271</td>\n",
       "      <td>1.391328</td>\n",
       "      <td>1.137348</td>\n",
       "      <td>2.497047</td>\n",
       "      <td>68.582878</td>\n",
       "      <td>0.352733</td>\n",
       "      <td>107.479233</td>\n",
       "      <td>46.329250</td>\n",
       "      <td>-0.006592</td>\n",
       "    </tr>\n",
       "    <tr>\n",
       "      <th>36283</th>\n",
       "      <td>0</td>\n",
       "      <td>15/9-17</td>\n",
       "      <td>2547.533998</td>\n",
       "      <td>-2525.343994</td>\n",
       "      <td>SHETLAND GP.</td>\n",
       "      <td>Tor Fm.</td>\n",
       "      <td>12.438000</td>\n",
       "      <td>4.933249</td>\n",
       "      <td>4.204113</td>\n",
       "      <td>2.560086</td>\n",
       "      <td>10.381619</td>\n",
       "      <td>0.163925</td>\n",
       "      <td>67.144447</td>\n",
       "      <td>36.840420</td>\n",
       "      <td>-0.011635</td>\n",
       "    </tr>\n",
       "    <tr>\n",
       "      <th>1008603</th>\n",
       "      <td>1</td>\n",
       "      <td>35/9-2</td>\n",
       "      <td>1905.832358</td>\n",
       "      <td>-1873.685059</td>\n",
       "      <td>SHETLAND GP.</td>\n",
       "      <td>Kyrre Fm.</td>\n",
       "      <td>12.555551</td>\n",
       "      <td>3.443376</td>\n",
       "      <td>2.454322</td>\n",
       "      <td>2.491921</td>\n",
       "      <td>87.638184</td>\n",
       "      <td>0.392348</td>\n",
       "      <td>85.631866</td>\n",
       "      <td>116.051033</td>\n",
       "      <td>0.006152</td>\n",
       "    </tr>\n",
       "    <tr>\n",
       "      <th>360332</th>\n",
       "      <td>2</td>\n",
       "      <td>25/8-5 S</td>\n",
       "      <td>2751.006400</td>\n",
       "      <td>-2517.002441</td>\n",
       "      <td>SHETLAND GP.</td>\n",
       "      <td>Tor Fm.</td>\n",
       "      <td>8.986394</td>\n",
       "      <td>4.380679</td>\n",
       "      <td>5.082558</td>\n",
       "      <td>2.435606</td>\n",
       "      <td>68.233116</td>\n",
       "      <td>0.130359</td>\n",
       "      <td>76.655942</td>\n",
       "      <td>84.010370</td>\n",
       "      <td>0.051513</td>\n",
       "    </tr>\n",
       "    <tr>\n",
       "      <th>959362</th>\n",
       "      <td>1</td>\n",
       "      <td>35/3-7 S</td>\n",
       "      <td>3852.267851</td>\n",
       "      <td>-3747.057861</td>\n",
       "      <td>CROMER KNOLL GP.</td>\n",
       "      <td>Agat Fm.</td>\n",
       "      <td>8.490282</td>\n",
       "      <td>4.151134</td>\n",
       "      <td>3.759997</td>\n",
       "      <td>2.580243</td>\n",
       "      <td>116.467209</td>\n",
       "      <td>0.199454</td>\n",
       "      <td>77.357185</td>\n",
       "      <td>73.036344</td>\n",
       "      <td>-0.003435</td>\n",
       "    </tr>\n",
       "  </tbody>\n",
       "</table>\n",
       "</div>"
      ],
      "text/plain": [
       "         ZONE      WELL     DEPTH_MD        Z_LOC             GROUP  \\\n",
       "823938      3    34/8-1  2278.289023 -2247.777832      SHETLAND GP.   \n",
       "36283       0   15/9-17  2547.533998 -2525.343994      SHETLAND GP.   \n",
       "1008603     1    35/9-2  1905.832358 -1873.685059      SHETLAND GP.   \n",
       "360332      2  25/8-5 S  2751.006400 -2517.002441      SHETLAND GP.   \n",
       "959362      1  35/3-7 S  3852.267851 -3747.057861  CROMER KNOLL GP.   \n",
       "\n",
       "         FORMATION       CALI      RMED      RDEP      RHOB          GR  \\\n",
       "823938   Lista Fm.  13.184271  1.391328  1.137348  2.497047   68.582878   \n",
       "36283      Tor Fm.  12.438000  4.933249  4.204113  2.560086   10.381619   \n",
       "1008603  Kyrre Fm.  12.555551  3.443376  2.454322  2.491921   87.638184   \n",
       "360332     Tor Fm.   8.986394  4.380679  5.082558  2.435606   68.233116   \n",
       "959362    Agat Fm.   8.490282  4.151134  3.759997  2.580243  116.467209   \n",
       "\n",
       "             NPHI         DTC          SP      DRHO  \n",
       "823938   0.352733  107.479233   46.329250 -0.006592  \n",
       "36283    0.163925   67.144447   36.840420 -0.011635  \n",
       "1008603  0.392348   85.631866  116.051033  0.006152  \n",
       "360332   0.130359   76.655942   84.010370  0.051513  \n",
       "959362   0.199454   77.357185   73.036344 -0.003435  "
      ]
     },
     "execution_count": 38,
     "metadata": {},
     "output_type": "execute_result"
    }
   ],
   "source": [
    "x_train_no_cor.head()"
   ]
  },
  {
   "cell_type": "code",
   "execution_count": 39,
   "id": "d53fdfe3",
   "metadata": {},
   "outputs": [],
   "source": [
    "lithology_numbers = {30000: 0,\n",
    "                 65030: 1,\n",
    "                 65000: 2,\n",
    "                 80000: 3,\n",
    "                 74000: 4,\n",
    "                 70000: 5,\n",
    "                 70032: 6,\n",
    "                 88000: 7,\n",
    "                 86000: 8,\n",
    "                 99000: 9,\n",
    "                 90000: 10,\n",
    "                 93000: 11}"
   ]
  },
  {
   "cell_type": "code",
   "execution_count": 40,
   "id": "f3ea784a",
   "metadata": {},
   "outputs": [],
   "source": [
    "y_train = y_train.map(lithology_numbers)"
   ]
  },
  {
   "cell_type": "code",
   "execution_count": 41,
   "id": "cf4c712f",
   "metadata": {},
   "outputs": [],
   "source": [
    "cat_features = [1, 4, 5]"
   ]
  },
  {
   "cell_type": "code",
   "execution_count": 42,
   "id": "361de6e6",
   "metadata": {},
   "outputs": [],
   "source": [
    "# from catboost import Pool\n",
    "# pool = Pool(data=x_train, label=y_train, cat_features=cat_features)"
   ]
  },
  {
   "cell_type": "code",
   "execution_count": 43,
   "id": "1b3d191e",
   "metadata": {},
   "outputs": [],
   "source": [
    "# x_train, x_validation, y_train, y_validation = train_test_split(x_train, y_train, train_size=0.8, random_state=42)\n",
    "x_train_no_cor, x_validation, y_train, y_validation = train_test_split(x_train_no_cor, y_train, train_size=0.8, random_state=42)"
   ]
  },
  {
   "cell_type": "code",
   "execution_count": 44,
   "id": "afe723c3",
   "metadata": {},
   "outputs": [
    {
     "data": {
      "application/vnd.jupyter.widget-view+json": {
       "model_id": "e1853f487a594e4b8b8bc2a4829750c8",
       "version_major": 2,
       "version_minor": 0
      },
      "text/plain": [
       "MetricVisualizer(layout=Layout(align_self='stretch', height='500px'))"
      ]
     },
     "metadata": {},
     "output_type": "display_data"
    },
    {
     "data": {
      "text/plain": [
       "<catboost.core.CatBoostClassifier at 0x18164078fa0>"
      ]
     },
     "execution_count": 44,
     "metadata": {},
     "output_type": "execute_result"
    }
   ],
   "source": [
    "# model = CatBoostClassifier(iterations=1000, learning_rate=0.5, use_best_model=True, logging_level='Verbose', task_type=\"GPU\", loss_function='MultiClass')\n",
    "model = CatBoostClassifier(iterations=1000, nan_mode=\"Min\", random_seed=43, loss_function='MultiClass', task_type=\"GPU\")\n",
    "# model.fit(x_train, y_train, cat_features = cat_features, eval_set=(x_validation, y_validation), plot=True, verbose=False)\n",
    "model.fit(x_train_no_cor, y_train, cat_features = cat_features, eval_set=(x_validation, y_validation), plot=True, verbose=False)\n",
    "# cat_features = cat_features"
   ]
  },
  {
   "cell_type": "code",
   "execution_count": 45,
   "id": "8e4c6310",
   "metadata": {},
   "outputs": [
    {
     "data": {
      "text/html": [
       "<div>\n",
       "<style scoped>\n",
       "    .dataframe tbody tr th:only-of-type {\n",
       "        vertical-align: middle;\n",
       "    }\n",
       "\n",
       "    .dataframe tbody tr th {\n",
       "        vertical-align: top;\n",
       "    }\n",
       "\n",
       "    .dataframe thead th {\n",
       "        text-align: right;\n",
       "    }\n",
       "</style>\n",
       "<table border=\"1\" class=\"dataframe\">\n",
       "  <thead>\n",
       "    <tr style=\"text-align: right;\">\n",
       "      <th></th>\n",
       "      <th>Feature Id</th>\n",
       "      <th>Importances</th>\n",
       "    </tr>\n",
       "  </thead>\n",
       "  <tbody>\n",
       "    <tr>\n",
       "      <th>0</th>\n",
       "      <td>WELL</td>\n",
       "      <td>15.133987</td>\n",
       "    </tr>\n",
       "    <tr>\n",
       "      <th>1</th>\n",
       "      <td>GR</td>\n",
       "      <td>12.513805</td>\n",
       "    </tr>\n",
       "    <tr>\n",
       "      <th>2</th>\n",
       "      <td>FORMATION</td>\n",
       "      <td>12.409734</td>\n",
       "    </tr>\n",
       "    <tr>\n",
       "      <th>3</th>\n",
       "      <td>GROUP</td>\n",
       "      <td>7.778119</td>\n",
       "    </tr>\n",
       "    <tr>\n",
       "      <th>4</th>\n",
       "      <td>SP</td>\n",
       "      <td>6.674672</td>\n",
       "    </tr>\n",
       "    <tr>\n",
       "      <th>5</th>\n",
       "      <td>Z_LOC</td>\n",
       "      <td>6.311549</td>\n",
       "    </tr>\n",
       "    <tr>\n",
       "      <th>6</th>\n",
       "      <td>CALI</td>\n",
       "      <td>5.889461</td>\n",
       "    </tr>\n",
       "    <tr>\n",
       "      <th>7</th>\n",
       "      <td>DEPTH_MD</td>\n",
       "      <td>5.717408</td>\n",
       "    </tr>\n",
       "    <tr>\n",
       "      <th>8</th>\n",
       "      <td>NPHI</td>\n",
       "      <td>4.911615</td>\n",
       "    </tr>\n",
       "    <tr>\n",
       "      <th>9</th>\n",
       "      <td>ZONE</td>\n",
       "      <td>4.555229</td>\n",
       "    </tr>\n",
       "    <tr>\n",
       "      <th>10</th>\n",
       "      <td>DTC</td>\n",
       "      <td>4.322701</td>\n",
       "    </tr>\n",
       "    <tr>\n",
       "      <th>11</th>\n",
       "      <td>RHOB</td>\n",
       "      <td>4.290396</td>\n",
       "    </tr>\n",
       "    <tr>\n",
       "      <th>12</th>\n",
       "      <td>RMED</td>\n",
       "      <td>3.908462</td>\n",
       "    </tr>\n",
       "    <tr>\n",
       "      <th>13</th>\n",
       "      <td>RDEP</td>\n",
       "      <td>3.207389</td>\n",
       "    </tr>\n",
       "    <tr>\n",
       "      <th>14</th>\n",
       "      <td>DRHO</td>\n",
       "      <td>2.375474</td>\n",
       "    </tr>\n",
       "  </tbody>\n",
       "</table>\n",
       "</div>"
      ],
      "text/plain": [
       "   Feature Id  Importances\n",
       "0        WELL    15.133987\n",
       "1          GR    12.513805\n",
       "2   FORMATION    12.409734\n",
       "3       GROUP     7.778119\n",
       "4          SP     6.674672\n",
       "5       Z_LOC     6.311549\n",
       "6        CALI     5.889461\n",
       "7    DEPTH_MD     5.717408\n",
       "8        NPHI     4.911615\n",
       "9        ZONE     4.555229\n",
       "10        DTC     4.322701\n",
       "11       RHOB     4.290396\n",
       "12       RMED     3.908462\n",
       "13       RDEP     3.207389\n",
       "14       DRHO     2.375474"
      ]
     },
     "execution_count": 45,
     "metadata": {},
     "output_type": "execute_result"
    }
   ],
   "source": [
    "model.get_feature_importance(prettified=True)"
   ]
  },
  {
   "cell_type": "code",
   "execution_count": 46,
   "id": "8a283fd7",
   "metadata": {},
   "outputs": [],
   "source": [
    "A=np.array([[0.   , 2.   , 3.5  , 3.   , 3.75 , 3.5  , 3.5  , 4.   , 4.   ,\n",
    "        2.5  , 3.875, 3.25 ],\n",
    "       [2.   , 0.   , 2.375, 2.75 , 4.   , 3.75 , 3.75 , 3.875, 4.   ,\n",
    "        3.   , 3.75 , 3.   ],\n",
    "       [3.5  , 2.375, 0.   , 2.   , 3.5  , 3.5  , 3.75 , 4.   , 4.   ,\n",
    "        2.75 , 3.25 , 3.   ],\n",
    "       [3.   , 2.75 , 2.   , 0.   , 2.5  , 2.   , 2.25 , 4.   , 4.   ,\n",
    "        3.375, 3.75 , 3.25 ],\n",
    "       [3.75 , 4.   , 3.5  , 2.5  , 0.   , 2.625, 2.875, 3.75 , 3.25 ,\n",
    "        3.   , 4.   , 3.625],\n",
    "       [3.5  , 3.75 , 3.5  , 2.   , 2.625, 0.   , 1.375, 4.   , 3.75 ,\n",
    "        3.5  , 4.   , 3.625],\n",
    "       [3.5  , 3.75 , 3.75 , 2.25 , 2.875, 1.375, 0.   , 4.   , 3.75 ,\n",
    "        3.125, 4.   , 3.75 ],\n",
    "       [4.   , 3.875, 4.   , 4.   , 3.75 , 4.   , 4.   , 0.   , 2.75 ,\n",
    "        3.75 , 3.75 , 4.   ],\n",
    "       [4.   , 4.   , 4.   , 4.   , 3.25 , 3.75 , 3.75 , 2.75 , 0.   ,\n",
    "        4.   , 4.   , 3.875],\n",
    "       [2.5  , 3.   , 2.75 , 3.375, 3.   , 3.5  , 3.125, 3.75 , 4.   ,\n",
    "        0.   , 2.5  , 3.25 ],\n",
    "       [3.875, 3.75 , 3.25 , 3.75 , 4.   , 4.   , 4.   , 3.75 , 4.   ,\n",
    "        2.5  , 0.   , 4.   ],\n",
    "       [3.25 , 3.   , 3.   , 3.25 , 3.625, 3.625, 3.75 , 4.   , 3.875,\n",
    "        3.25 , 4.   , 0.   ]])"
   ]
  },
  {
   "cell_type": "code",
   "execution_count": 47,
   "id": "767a8988",
   "metadata": {},
   "outputs": [],
   "source": [
    "def score(y_true, y_pred):\n",
    "    S = 0.0\n",
    "    y_true = y_true.astype(int)\n",
    "    y_pred = y_pred.astype(int)\n",
    "    for i in range(0, y_true.shape[0]):\n",
    "        S -= A[y_true[i], y_pred[i]]\n",
    "    return S/y_true.shape[0]"
   ]
  },
  {
   "cell_type": "code",
   "execution_count": 48,
   "id": "0e612c1d",
   "metadata": {},
   "outputs": [
    {
     "data": {
      "text/plain": [
       "array([5, 1, 1, ..., 2, 3, 2], dtype=int64)"
      ]
     },
     "execution_count": 48,
     "metadata": {},
     "output_type": "execute_result"
    }
   ],
   "source": [
    "y_validation.values"
   ]
  },
  {
   "cell_type": "code",
   "execution_count": 49,
   "id": "0d4f900d",
   "metadata": {},
   "outputs": [
    {
     "data": {
      "text/plain": [
       "209994"
      ]
     },
     "execution_count": 49,
     "metadata": {},
     "output_type": "execute_result"
    }
   ],
   "source": [
    "y_validation.shape[0]"
   ]
  },
  {
   "cell_type": "code",
   "execution_count": 50,
   "id": "b6fb3fe0",
   "metadata": {},
   "outputs": [
    {
     "data": {
      "text/plain": [
       "0.0"
      ]
     },
     "execution_count": 50,
     "metadata": {},
     "output_type": "execute_result"
    }
   ],
   "source": [
    "score(y_validation.values, y_validation.values)"
   ]
  },
  {
   "cell_type": "code",
   "execution_count": 51,
   "id": "f8c58850",
   "metadata": {},
   "outputs": [
    {
     "data": {
      "text/plain": [
       "array([5, 1, 1, ..., 2, 3, 2], dtype=int64)"
      ]
     },
     "execution_count": 51,
     "metadata": {},
     "output_type": "execute_result"
    }
   ],
   "source": [
    "y_validation.values"
   ]
  },
  {
   "cell_type": "code",
   "execution_count": 52,
   "id": "630c0026",
   "metadata": {},
   "outputs": [],
   "source": [
    "y_pred_test = model.predict(x_validation)"
   ]
  },
  {
   "cell_type": "code",
   "execution_count": 53,
   "id": "384422cd",
   "metadata": {},
   "outputs": [
    {
     "data": {
      "text/plain": [
       "array([[5],\n",
       "       [1],\n",
       "       [2],\n",
       "       ...,\n",
       "       [2],\n",
       "       [3],\n",
       "       [2]], dtype=int64)"
      ]
     },
     "execution_count": 53,
     "metadata": {},
     "output_type": "execute_result"
    }
   ],
   "source": [
    "y_pred_test"
   ]
  },
  {
   "cell_type": "code",
   "execution_count": 54,
   "id": "a886409c",
   "metadata": {},
   "outputs": [
    {
     "data": {
      "text/plain": [
       "array([-0.20951611])"
      ]
     },
     "execution_count": 54,
     "metadata": {},
     "output_type": "execute_result"
    }
   ],
   "source": [
    "score(y_validation.values, y_pred_test)"
   ]
  },
  {
   "cell_type": "code",
   "execution_count": null,
   "id": "017407f2",
   "metadata": {},
   "outputs": [],
   "source": []
  }
 ],
 "metadata": {
  "kernelspec": {
   "display_name": "Python 3 (ipykernel)",
   "language": "python",
   "name": "python3"
  },
  "language_info": {
   "codemirror_mode": {
    "name": "ipython",
    "version": 3
   },
   "file_extension": ".py",
   "mimetype": "text/x-python",
   "name": "python",
   "nbconvert_exporter": "python",
   "pygments_lexer": "ipython3",
   "version": "3.8.10"
  }
 },
 "nbformat": 4,
 "nbformat_minor": 5
}
